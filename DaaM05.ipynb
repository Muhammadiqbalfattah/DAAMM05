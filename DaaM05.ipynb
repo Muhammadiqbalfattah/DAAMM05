{
  "nbformat": 4,
  "nbformat_minor": 0,
  "metadata": {
    "colab": {
      "provenance": []
    },
    "kernelspec": {
      "name": "python3",
      "display_name": "Python 3"
    },
    "language_info": {
      "name": "python"
    }
  },
  "cells": [
    {
      "cell_type": "code",
      "source": [
        "#Latihan 1\n",
        "#Hitung Inversi\n",
        "\n",
        "def countInversion (arr):\n",
        "  result=0\n",
        "  for i in range(len(arr)):\n",
        "    for j in range (i+1,len(arr)):\n",
        "      if arr[i]> arr[j]:\n",
        "        result+=1\n",
        "  return result"
      ],
      "metadata": {
        "id": "XF-mdVcfmcCq"
      },
      "execution_count": 6,
      "outputs": []
    },
    {
      "cell_type": "code",
      "source": [
        "arr = [10,20,30,42,13,5,60]"
      ],
      "metadata": {
        "id": "4tB8ZZsXpVKw"
      },
      "execution_count": 13,
      "outputs": []
    },
    {
      "cell_type": "code",
      "source": [
        "result= countInversion(arr)\n",
        "print(result)\n",
        "#JadiAdaDelapanStepYangDilakukanKomputer."
      ],
      "metadata": {
        "colab": {
          "base_uri": "https://localhost:8080/"
        },
        "id": "zcVW59i9pa6A",
        "outputId": "d28f3fbb-6713-4ef6-bee4-f6fed9b5e9a2"
      },
      "execution_count": 14,
      "outputs": [
        {
          "output_type": "stream",
          "name": "stdout",
          "text": [
            "8\n"
          ]
        }
      ]
    },
    {
      "cell_type": "code",
      "source": [
        "#Latihan 2\n",
        "#Divide n Conquer\n",
        "\n",
        "def countInversiondua(abc):\n",
        "  icount=0\n",
        "  if len(abc) <=1:\n",
        "    return icount\n",
        "\n",
        "  mid=len(abc)//2\n",
        "  left=abc[:mid]\n",
        "  right=abc[mid:]\n",
        "  icount+=countInversiondua(left)\n",
        "  icount+=countInversiondua(right)\n",
        "  i=j=k=0\n",
        "\n",
        "#Print(left)\n",
        "#Print(right)\n",
        "  while i<len(left) and j<len(right):\n",
        "    if left[i]<right[j]:\n",
        "      abc[k]= left[j]\n",
        "      i+=1\n",
        "    else:\n",
        "      #print(left[i],right[j])\n",
        "      abc[k]= right[j]\n",
        "      j+=1\n",
        "      icount+= (mid-i)\n",
        "    k+=1\n",
        "  while i<len(left):\n",
        "    abc[k]=left[i]\n",
        "    i+=1\n",
        "    k+=1\n",
        "  while j<len(right):\n",
        "    abc[k]=right[j]\n",
        "    j+=1\n",
        "    k+=1\n",
        "  return icount\n"
      ],
      "metadata": {
        "id": "VVbnw0LptxBV"
      },
      "execution_count": 34,
      "outputs": []
    },
    {
      "cell_type": "code",
      "source": [
        "abc=[20,22,22,11,24,53]\n"
      ],
      "metadata": {
        "id": "qs15DMfsxKxI"
      },
      "execution_count": 36,
      "outputs": []
    },
    {
      "cell_type": "code",
      "source": [
        "result=countInversiondua(abc)\n",
        "print(result)"
      ],
      "metadata": {
        "colab": {
          "base_uri": "https://localhost:8080/"
        },
        "id": "wF-dMgqWxPXA",
        "outputId": "06cb4cff-0d1c-40d5-853d-e0845486de33"
      },
      "execution_count": 37,
      "outputs": [
        {
          "output_type": "stream",
          "name": "stdout",
          "text": [
            "4\n"
          ]
        }
      ]
    },
    {
      "cell_type": "code",
      "source": [
        "#Latihan 3\n",
        "#Tanpa Divide dan Conquer\n",
        "def maxSubSum(arr):\n",
        "  max_so_far=0\n",
        "  max_ending_here=0\n",
        "  for i in range(len(arr)):\n",
        "    max_ending_here+=arr[i]\n",
        "    if max_ending_here>max_so_far:\n",
        "      max_so_far=max_ending_here\n",
        "    if max_ending_here<0:\n",
        "        max_ending_here=0\n",
        "  return max_so_far\n",
        "              \n",
        "      "
      ],
      "metadata": {
        "id": "CCyTJSQi48pY"
      },
      "execution_count": 65,
      "outputs": []
    },
    {
      "cell_type": "code",
      "source": [
        "arr=[-2,-5,6,-2,-3,1,5,-6]"
      ],
      "metadata": {
        "id": "bsFIxS8X6otw"
      },
      "execution_count": 66,
      "outputs": []
    },
    {
      "cell_type": "code",
      "source": [
        "result=maxSubSum(arr)\n",
        "print(result)"
      ],
      "metadata": {
        "colab": {
          "base_uri": "https://localhost:8080/"
        },
        "id": "VZVAGLYt600r",
        "outputId": "b20c620a-915c-41db-dee2-154e2f0b1148"
      },
      "execution_count": 67,
      "outputs": [
        {
          "output_type": "stream",
          "name": "stdout",
          "text": [
            "7\n"
          ]
        }
      ]
    },
    {
      "cell_type": "code",
      "source": [
        "#Latihan 4\n",
        "#Menggunakan Divide and Conquer\n",
        "\n",
        "def maxCrossingSum(arr,low,mid,high):\n",
        "  result=0;leftSum=float('-infinity')\n",
        "  for i in range (mid,low-1,-1):\n",
        "    result+=arr[i]\n",
        "    if result>leftSum:\n",
        "      leftSum=result\n",
        "  result=0; rightSum=float('-infinity')\n",
        "  for i in range(mid+1,high+1):\n",
        "    result+=arr[i]\n",
        "    if result>rightSum:\n",
        "        rightSum=result\n",
        "  return leftSum+rightSum\n",
        "\n",
        "def maxSum(arr,low,high):\n",
        "  if low == high:\n",
        "    return arr[low]\n",
        "  mid=(low+high)//2\n",
        "  return max(maxSum(arr,low,mid),maxSum(arr,mid+1,high),maxCrossingSum(arr,low,mid,high))"
      ],
      "metadata": {
        "id": "4im8mYtu7TZe"
      },
      "execution_count": 68,
      "outputs": []
    },
    {
      "cell_type": "code",
      "source": [
        "arr=[-2,-5,6,-2,-3,1,5,-6,8]\n",
        "result = maxSum(arr,0,len(arr)-1)\n",
        "print(result)"
      ],
      "metadata": {
        "colab": {
          "base_uri": "https://localhost:8080/"
        },
        "id": "c53gOHba-01d",
        "outputId": "10cc662c-0dfc-4e9f-d4de-4aeb5a1c1896"
      },
      "execution_count": 70,
      "outputs": [
        {
          "output_type": "stream",
          "name": "stdout",
          "text": [
            "9\n"
          ]
        }
      ]
    },
    {
      "cell_type": "code",
      "source": [
        "#Latihan 5\n",
        "#Dengan divide dan conquer\n",
        "\n",
        "def commonPrefix(str1,str2):\n",
        "    n1=len(str1);n2=len(str2)\n",
        "    i,j=0,0\n",
        "    s=\"\"\n",
        "    while i<n1 and j<n2:\n",
        "        if str1[i] == str2[j]:\n",
        "          s+=str1[i]\n",
        "          i+=1\n",
        "          j+=1\n",
        "        else:\n",
        "          break\n",
        "    return s\n"
      ],
      "metadata": {
        "id": "xmrISMt__hsK"
      },
      "execution_count": 74,
      "outputs": []
    },
    {
      "cell_type": "code",
      "source": [
        "def longestCommongPrefix(arr,low,high):\n",
        "      if low==high:\n",
        "        return arr[low]\n",
        "      mid=(low+high)//2\n",
        "      result1=longestCommongPrefix(arr,low,mid)\n",
        "      result2=longestCommongPrefix(arr,mid+1,high)\n",
        "      result=commonPrefix(result1,result2)\n",
        "      return result"
      ],
      "metadata": {
        "id": "HkTLdvDMDpm7"
      },
      "execution_count": 75,
      "outputs": []
    },
    {
      "cell_type": "code",
      "source": [
        "arr = ['geeksforgeeks', 'geeks', 'geek', 'geezer']\n",
        "result =longestCommongPrefix(arr,0,len(arr)-1)\n",
        "print(result)"
      ],
      "metadata": {
        "colab": {
          "base_uri": "https://localhost:8080/"
        },
        "id": "Mapu9SZ0C8sY",
        "outputId": "0b2d1189-86f0-4ea0-eabe-3631121d1621"
      },
      "execution_count": 76,
      "outputs": [
        {
          "output_type": "stream",
          "name": "stdout",
          "text": [
            "gee\n"
          ]
        }
      ]
    },
    {
      "cell_type": "code",
      "source": [
        "arr =[\"Bagus\",\"Bagas\",\"Baginda\"]\n",
        "result= longestCommongPrefix(arr,0,len(arr)-1)\n",
        "print(result)"
      ],
      "metadata": {
        "colab": {
          "base_uri": "https://localhost:8080/"
        },
        "id": "HcaF3_zxCSGr",
        "outputId": "89f4fb78-c4ae-4857-be2d-8af61ef0f965"
      },
      "execution_count": 80,
      "outputs": [
        {
          "output_type": "stream",
          "name": "stdout",
          "text": [
            "Bag\n"
          ]
        }
      ]
    },
    {
      "cell_type": "code",
      "source": [
        "#Latihan 6\n",
        "#Median dari 2 array dengan divide dan conquer\n",
        "\n",
        "def medianOfArray(arr1,arr2,n):\n",
        "    m1=-1\n",
        "    m2=-1\n",
        "    count = 0\n",
        "    i=j=0\n",
        "    while count<n+1:\n",
        "      count+=1\n",
        "      if i==n:\n",
        "        m1=m2\n",
        "        m2=arr2[0]\n",
        "        break\n",
        "      if j==n:\n",
        "        m1=m2\n",
        "        m2=arr1[0]\n",
        "        break\n",
        "      if arr1[i]<arr2[j]:\n",
        "        m1=m2\n",
        "        m2=arr1[i]\n",
        "        i+=1,\n",
        "      else:\n",
        "        m1=m2\n",
        "        m2=arr2[j]\n",
        "        j+=1\n",
        "    return(m1+m2)//2\n"
      ],
      "metadata": {
        "id": "apjJUMDHEIDb"
      },
      "execution_count": 81,
      "outputs": []
    },
    {
      "cell_type": "code",
      "source": [
        "arr1=[10,20,25,80,12]\n",
        "arr2=[11,21,0,81,13]"
      ],
      "metadata": {
        "id": "LH-hsroGGiKr"
      },
      "execution_count": 89,
      "outputs": []
    },
    {
      "cell_type": "code",
      "source": [
        "print(medianOfArray(arr1,arr2,len(arr1)))\n"
      ],
      "metadata": {
        "colab": {
          "base_uri": "https://localhost:8080/"
        },
        "id": "itpKKuYIGo8_",
        "outputId": "3c86f449-3322-4412-f343-0e3ba1d7170d"
      },
      "execution_count": 90,
      "outputs": [
        {
          "output_type": "stream",
          "name": "stdout",
          "text": [
            "12\n"
          ]
        }
      ]
    },
    {
      "cell_type": "code",
      "source": [
        "#Latihan 7 \n",
        "#Median 2 array urut berbeda ukuran\n",
        "\n",
        "#Deklarasi Variabel\n",
        "def floorSorted(arr,low,high,x):\n",
        "    if low>high:\n",
        "      return -1\n",
        "\n",
        "    if arr[low]>x:\n",
        "      return-1\n",
        "\n",
        "    if arr[high]<=x:\n",
        "      return arr[high]\n",
        "\n",
        "    #formula median(?)\n",
        "    mid = (low+high)//2\n",
        "\n",
        "    if arr[mid] ==x:\n",
        "      return arr[mid]\n",
        "\n",
        "    if mid>0 and x>=arr[mid-1] and arr[mid]>x:\n",
        "        return arr[mid-1]\n",
        "\n",
        "    if mid<high and x<arr[mid+1] and x>=arr[mid]:\n",
        "        return arr[mid]\n",
        "\n",
        "    if x>arr[mid]:\n",
        "        return floorSorted(arr,mid+1,high,x)\n",
        "    else:\n",
        "        return floorSorted(arr,low,mid-1,x)\n"
      ],
      "metadata": {
        "id": "sEXeMM5iGwgi"
      },
      "execution_count": 112,
      "outputs": []
    },
    {
      "cell_type": "code",
      "source": [
        "arr = [1,2,8,10,12,14,19,12]\n",
        "x = 5"
      ],
      "metadata": {
        "id": "jp9Wq-6NMNAP"
      },
      "execution_count": 129,
      "outputs": []
    },
    {
      "cell_type": "code",
      "source": [
        "print(floorSorted(arr,0,len(arr)-1,x))"
      ],
      "metadata": {
        "colab": {
          "base_uri": "https://localhost:8080/"
        },
        "id": "A4_blI5mMUyY",
        "outputId": "cbadea47-55d9-43da-f73a-6cd2652fdcfd"
      },
      "execution_count": 130,
      "outputs": [
        {
          "output_type": "stream",
          "name": "stdout",
          "text": [
            "2\n"
          ]
        }
      ]
    },
    {
      "cell_type": "code",
      "source": [
        "#Latihan 8\n",
        "#Mencari nilai terdekat dengan metode divide dan conquer\n",
        "\n",
        "def closestNumber(arr,low,high,x):\n",
        "    if low>high:\n",
        "      return -1\n",
        "    if arr[high]<=x:\n",
        "      return arr[high]\n",
        "    if arr[low]>=x:\n",
        "      return arr[low]\n",
        "\n",
        "  #Formula mencari nilai \n",
        "    mid = (low+high)//2\n",
        "\n",
        "    if arr[mid]==x:\n",
        "      return arr[mid]\n",
        "    abs_mid= abs(arr[mid]-x)\n",
        "\n",
        "    if mid>0:\n",
        "      abs_left=abs(arr[mid-1]-x)\n",
        "      if abs_left<abs_mid:\n",
        "        return closestNumber(arr,low,mid-1,x)\n",
        "    \n",
        "    if mid<high:\n",
        "      abs_right=abs(arr[mid+1]-x)\n",
        "      if abs_left<abs_mid:\n",
        "        return closestNumber(arr,mid+1,high,x)\n",
        "    \n",
        "    return arr[mid]\n",
        "\n"
      ],
      "metadata": {
        "id": "zkXEKQLoMbKs"
      },
      "execution_count": 131,
      "outputs": []
    },
    {
      "cell_type": "code",
      "source": [
        "arr =[2,5,6,7,8,10,22]\n",
        "x = 9\n"
      ],
      "metadata": {
        "id": "xKWgBvXxRN4_"
      },
      "execution_count": 140,
      "outputs": []
    },
    {
      "cell_type": "code",
      "source": [
        "print(closestNumber(arr,0,len(arr)-1,x))"
      ],
      "metadata": {
        "colab": {
          "base_uri": "https://localhost:8080/"
        },
        "id": "09Z7L83vRVbm",
        "outputId": "f1be5c54-a15d-4096-b122-f65a28b324dc"
      },
      "execution_count": 141,
      "outputs": [
        {
          "output_type": "stream",
          "name": "stdout",
          "text": [
            "7\n"
          ]
        }
      ]
    },
    {
      "cell_type": "code",
      "source": [
        "#Latihan 9\n",
        "#Mencari fixed point dengan metode divide dan conquer\n",
        "\n",
        "def fixedPoint(arr,low,high):\n",
        "    if low>high:\n",
        "      return -1\n",
        "    if arr[high]==high:\n",
        "      return arr[high]\n",
        "    if arr[low]==low:\n",
        "      return arr[low]\n",
        "    mid= (low+high)//2\n",
        "    if arr[mid]==mid:\n",
        "      return arr[mid]\n",
        "    if mid>arr[mid]:\n",
        "      return fixedPoint(arr,mid+1,high)\n",
        "    else:\n",
        "      return fixedPoint(arr,low,mid-1)"
      ],
      "metadata": {
        "id": "6rXmD1upRhCw"
      },
      "execution_count": 143,
      "outputs": []
    },
    {
      "cell_type": "code",
      "source": [
        "arr =[9,1,4,5,2]"
      ],
      "metadata": {
        "id": "YbGFDf2USwXM"
      },
      "execution_count": 144,
      "outputs": []
    },
    {
      "cell_type": "code",
      "source": [
        "print(fixedPoint(arr,0,len(arr)-1))"
      ],
      "metadata": {
        "colab": {
          "base_uri": "https://localhost:8080/"
        },
        "id": "vEXkMl2gSzCm",
        "outputId": "eb54901e-3f31-4c03-ce03-6bee0f62790f"
      },
      "execution_count": 145,
      "outputs": [
        {
          "output_type": "stream",
          "name": "stdout",
          "text": [
            "1\n"
          ]
        }
      ]
    },
    {
      "cell_type": "code",
      "source": [],
      "metadata": {
        "id": "__hTHCPZS4Ky"
      },
      "execution_count": null,
      "outputs": []
    }
  ]
}